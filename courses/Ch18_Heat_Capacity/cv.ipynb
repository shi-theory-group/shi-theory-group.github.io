{
 "cells": [
  {
   "cell_type": "markdown",
   "metadata": {},
   "source": [
    "# Molar Heat Capacity of Water Vapor\n",
    "## Chem 113, Spring 2020, Liang Shi"
   ]
  },
  {
   "cell_type": "markdown",
   "metadata": {},
   "source": [
    "In this exercise, we will compute the molar heat capacity of water vapor from spectroscopic data using statistical mechanics. Consider the water vapor as an ideal gas, and the partition function for water vapor is given by\n",
    "\n",
    "$$ Q = \\frac{q^N}{N!}, $$\n",
    "\n",
    "where $q$ is the molecular partition function, which can be further approximately factorized as \n",
    "\n",
    "$$ q = q_e q_v q_r q_t, $$\n",
    "\n",
    "where $q_e$, $q_v$, $q_r$, and $q_t$ are molecular electronic, vibrational, rotational, and translational partition functions."
   ]
  },
  {
   "cell_type": "markdown",
   "metadata": {},
   "source": [
    "### Molecular electronic partition function $q_e$\n",
    "\n",
    "From Eq. (18.44) in M&S,\n",
    "\n",
    "$$ q_e = g_{e1} e^{D_e / k_B T} + ..., $$\n",
    "\n",
    "where $g_{e1}=1$ for water, and $D_e$ can be determined spectroscopically."
   ]
  },
  {
   "cell_type": "markdown",
   "metadata": {},
   "source": [
    "### Molecular translational partition function $q_t$\n",
    "\n",
    "From Eq. (18.43) in M&S,\n",
    "\n",
    "$$q_t = \\left [ \\frac{2\\pi M k_B T}{h^2}\\right]^{3/2}V,$$\n",
    "\n",
    "where $M$ is the total mass of the molecule."
   ]
  },
  {
   "cell_type": "markdown",
   "metadata": {},
   "source": [
    "### Molecular rotational partition function $q_r$\n",
    "\n",
    "From Eq. (18.56) in M&S, \n",
    "\n",
    "$$ q_r = \\frac{\\sqrt{\\pi}}{\\sigma} \\left( \\frac{T^3}{\\Theta_{r,A} \\Theta_{r,B} \\Theta_{r,C}} \\right)^{1/2},$$\n",
    "\n",
    "where $\\sigma=2$, $\\Theta_{r,A}=40.1 K$, $\\Theta_{r,B}=20.9 K$, and $\\Theta_{r,C}=13.4 K$ for water since water molecule is an asymmetric top with a $C_{2V}$ symmetry. "
   ]
  },
  {
   "cell_type": "markdown",
   "metadata": {},
   "source": [
    "### Molecular vibrational partition function $q_v$\n",
    "\n",
    "From Eq. (18.46) in M&S,\n",
    "\n",
    "$$ q_v = \\prod_{j=1}^3 \\frac{e^{-\\Theta_{v,j}/2T}}{1-e^{-\\Theta_{v,j}/T}}, $$\n",
    "\n",
    "where $\\Theta_{v,1}=5360 K$, $\\Theta_{v,2}=5160 K$, and $\\Theta_{v,3}=2290 K$ for water.\n",
    "\n",
    "**Question: how do we get the characteristic vibrational temperatures?**"
   ]
  },
  {
   "cell_type": "markdown",
   "metadata": {},
   "source": [
    "### Total energy of water vapor\n",
    "\n",
    "$$ \\langle E \\rangle = k_B T^2 \\left ( \\frac{\\partial \\ln Q}{\\partial T} \\right)_{NV} $$ \n",
    "\n",
    "$$ = N k_B T^2 \\frac{\\partial \\ln q}{\\partial T}  $$\n",
    "\n",
    "$$ = N k_B T^2 \\left ( \\frac{\\partial \\ln q_e}{\\partial T} + \\frac{\\partial \\ln q_v}{\\partial T} + \\frac{\\partial \\ln q_r}{\\partial T} + \\frac{\\partial \\ln q_t}{\\partial T} \\right ) $$\n",
    "\n",
    "$$ = n R T^2 \\left ( \\frac{\\partial \\ln q_e}{\\partial T} + \\frac{\\partial \\ln q_v}{\\partial T} + \\frac{\\partial \\ln q_r}{\\partial T} + \\frac{\\partial \\ln q_t}{\\partial T} \\right ) $$\n",
    "\n",
    "The last step uses $N=n N_A$ and $k_B = R/N_A$."
   ]
  },
  {
   "cell_type": "markdown",
   "metadata": {},
   "source": [
    "### Molar energy of water vapor\n",
    "\n",
    "$$ \\langle \\bar{E} \\rangle = \\frac{\\langle E \\rangle}{n} $$\n",
    "\n",
    "$$ = R T^2 \\left ( \\frac{\\partial \\ln q_e}{\\partial T} + \\frac{\\partial \\ln q_v}{\\partial T} + \\frac{\\partial \\ln q_r}{\\partial T} + \\frac{\\partial \\ln q_t}{\\partial T} \\right ) $$"
   ]
  },
  {
   "cell_type": "markdown",
   "metadata": {},
   "source": [
    "### Molar heat capacity of water vapor\n",
    "\n",
    "$$ \\bar{C}_V = \\left ( \\frac{\\partial \\langle \\bar{E} \\rangle}{\\partial T} \\right )_{NV} $$\n",
    "\n",
    "$$ = 0 + R\\sum_{j=1}^{3} \\left( \\frac{\\Theta_{v,j}}{T}\\right)^2 \\frac{e^{-\\Theta_{v,j}/T}}{(1-e^{-\\Theta_{v,j}/T})^2} + \\frac{3}{2} R + \\frac{3}{2} R$$\n",
    "\n",
    "$$ \\frac{\\bar{C}_V}{R} =  3 + \\sum_{j=1}^{3} \\left( \\frac{\\Theta_{v,j}}{T}\\right)^2 \\frac{e^{-\\Theta_{v,j}/T}}{(1-e^{-\\Theta_{v,j}/T})^2}$$\n",
    "\n",
    "**Question: do you know how to get the equation above?**"
   ]
  },
  {
   "cell_type": "markdown",
   "metadata": {},
   "source": [
    "**Let's start calculating $\\bar{C}_V/R$ for water**"
   ]
  },
  {
   "cell_type": "code",
   "execution_count": 1,
   "metadata": {},
   "outputs": [],
   "source": [
    "# load some libraries for numerical operations and plotting\n",
    "import numpy as np\n",
    "import matplotlib.pyplot as plt\n",
    "%matplotlib inline"
   ]
  },
  {
   "cell_type": "markdown",
   "metadata": {},
   "source": [
    "Set the parameters first:"
   ]
  },
  {
   "cell_type": "code",
   "execution_count": 2,
   "metadata": {
    "scrolled": true
   },
   "outputs": [],
   "source": [
    "# Parameters\n",
    "T = 300.0        # K\n",
    "theta1 = 5360.0  # K\n",
    "theta2 = 5160.0  # K\n",
    "theta3 = 2290.0  # K"
   ]
  },
  {
   "cell_type": "markdown",
   "metadata": {},
   "source": [
    "Now we define a function that computes the term in the summation:"
   ]
  },
  {
   "cell_type": "code",
   "execution_count": 3,
   "metadata": {},
   "outputs": [],
   "source": [
    "def vib_cv(T, theta):\n",
    "    import math\n",
    "    ratio = theta / T\n",
    "    return math.pow(ratio,2) * math.exp(-ratio) / math.pow(1.0-math.exp(-ratio),2)"
   ]
  },
  {
   "cell_type": "markdown",
   "metadata": {},
   "source": [
    "Now we can compute $\\bar{C}_V/R$:"
   ]
  },
  {
   "cell_type": "code",
   "execution_count": 4,
   "metadata": {},
   "outputs": [
    {
     "name": "stdout",
     "output_type": "stream",
     "text": [
      "3.0282471146959566\n"
     ]
    }
   ],
   "source": [
    "cv = 3.0 + vib_cv(T,theta1) + vib_cv(T,theta2) + vib_cv(T,theta3)\n",
    "print(cv) "
   ]
  },
  {
   "cell_type": "markdown",
   "metadata": {},
   "source": [
    "The experimental value of $\\bar{C}_V/R$ at 300 K is 3.011. "
   ]
  },
  {
   "cell_type": "markdown",
   "metadata": {},
   "source": [
    "If we use numpy, we can further simplify the code:"
   ]
  },
  {
   "cell_type": "code",
   "execution_count": 5,
   "metadata": {},
   "outputs": [],
   "source": [
    "def vib2_cv(T, theta): # theta here is an array\n",
    "    import numpy as np\n",
    "    ratio = theta / T\n",
    "    return np.power(ratio,2) * np.exp(-ratio) / np.power(1.0-np.exp(-ratio),2)"
   ]
  },
  {
   "cell_type": "code",
   "execution_count": 6,
   "metadata": {},
   "outputs": [
    {
     "name": "stdout",
     "output_type": "stream",
     "text": [
      "3.0282471146959566\n"
     ]
    }
   ],
   "source": [
    "theta = np.array([theta1, theta2, theta3])\n",
    "cv = 3.0 + np.sum(vib2_cv(T,theta))\n",
    "print(cv)"
   ]
  },
  {
   "cell_type": "markdown",
   "metadata": {},
   "source": [
    "---\n",
    "\n",
    "### Group Exercise 1\n",
    "\n",
    "In class, we learned that the high temperature limit of $\\bar{C}_{V,vib}$ is $R$ for a single vibration (see Figure 18.3 in M&S). Since water molecule has 3 vibrations, what do you think is the high temperature limit of $\\bar{C}_V / R$ for water vapor? Verify your answer by computing $\\bar{C}_V / R$ at a higher temperature. How high does the temperature have to be to approach the high temperature limit for water vapor?\n",
    "\n",
    "---"
   ]
  },
  {
   "cell_type": "code",
   "execution_count": 7,
   "metadata": {},
   "outputs": [
    {
     "name": "stdout",
     "output_type": "stream",
     "text": [
      "5.831821143129288\n"
     ]
    }
   ],
   "source": [
    "T=1.0*theta1\n",
    "cv = 3.0 + np.sum(vib2_cv(T,theta))\n",
    "print(cv)"
   ]
  },
  {
   "cell_type": "markdown",
   "metadata": {},
   "source": [
    "** Now let's examine $\\bar{C}_V/R$ as a function of $T$. **"
   ]
  },
  {
   "cell_type": "markdown",
   "metadata": {},
   "source": [
    "Since we are going to repeatedly calculate $\\bar{C}_V/R$ for different temperatures, it is convinent to define a function to do so:"
   ]
  },
  {
   "cell_type": "code",
   "execution_count": 8,
   "metadata": {},
   "outputs": [],
   "source": [
    "def cv(T, theta): \n",
    "    import numpy as np\n",
    "    ratio = theta / T\n",
    "    return 3.0 + np.sum(np.power(ratio,2) * np.exp(-ratio) / np.power(1.0-np.exp(-ratio),2))"
   ]
  },
  {
   "cell_type": "markdown",
   "metadata": {},
   "source": [
    "---\n",
    "\n",
    "### Group Exercise 2\n",
    "\n",
    "Now you need to use the function `cv` defined above to make a plot similar to Figure 18.7 in M&S (note that the y-axis label of that figure should be $\\bar{C}_V/R$). You might need to use `for` loop in Python, and part of the code is provided.\n"
   ]
  },
  {
   "cell_type": "code",
   "execution_count": 13,
   "metadata": {},
   "outputs": [
    {
     "name": "stdout",
     "output_type": "stream",
     "text": [
      "[3.02824711 3.22564244 3.50081093 3.79811328 4.09566246]\n"
     ]
    }
   ],
   "source": [
    "# use a for loop\n",
    "temperature = np.arange(300.0,1300.0,200.0) # generate the temperature array\n",
    "nt = np.shape(temperature)[0] # get the number of elements in the array\n",
    "cv_theo = np.zeros(nt) # create an array with zeros\n",
    "for i in range(nt): # Iterate over all the temperatures\n",
    "    T=temperature[i]\n",
    "    cv_theo[i]=cv(T,theta)\n",
    "    \n",
    "print(cv_theo)"
   ]
  },
  {
   "cell_type": "markdown",
   "metadata": {},
   "source": [
    "Load experimental data extracted from Figure 18.7 in M&S."
   ]
  },
  {
   "cell_type": "code",
   "execution_count": 14,
   "metadata": {},
   "outputs": [],
   "source": [
    "# Load the experimental data \n",
    "exp = np.loadtxt('cv_exp.txt') # the exp data file has 2 columns\n",
    "T_exp = exp[:,0] # the 1st column is the temperature in K\n",
    "cv_exp = exp[:,1] # the 2nd column is Cv from exp."
   ]
  },
  {
   "cell_type": "markdown",
   "metadata": {},
   "source": [
    "Plot the results and compare them"
   ]
  },
  {
   "cell_type": "code",
   "execution_count": 16,
   "metadata": {},
   "outputs": [
    {
     "data": {
      "image/png": "[encoded data removed]",
      "text/plain": [
       "<Figure size 432x288 with 1 Axes>"
      ]
     },
     "metadata": {
      "needs_background": "light"
     },
     "output_type": "display_data"
    }
   ],
   "source": [
    "plt.plot(T_exp, cv_exp, 'ro', label=\"Exp.\")\n",
    "plt.plot(temperature, cv_theo, 'b-x', label=\"Theory\") ### You need to edit this line\n",
    "plt.xlabel('T / K')\n",
    "plt.ylabel('Molar heat capacity / R')\n",
    "plt.xlim((300,1200))\n",
    "plt.ylim((3.0,4.4))\n",
    "plt.legend()\n",
    "plt.show()"
   ]
  },
  {
   "cell_type": "code",
   "execution_count": null,
   "metadata": {},
   "outputs": [],
   "source": []
  }
 ],
 "metadata": {
  "kernelspec": {
   "display_name": "Python 3",
   "language": "python",
   "name": "python3"
  },
  "language_info": {
   "codemirror_mode": {
    "name": "ipython",
    "version": 3
   },
   "file_extension": ".py",
   "mimetype": "text/x-python",
   "name": "python",
   "nbconvert_exporter": "python",
   "pygments_lexer": "ipython3",
   "version": "3.6.7"
  }
 },
 "nbformat": 4,
 "nbformat_minor": 1
}
