{
 "cells": [
  {
   "cell_type": "markdown",
   "metadata": {},
   "source": [
    "\n",
    "# Equation of State (EOS) for a Real Gas\n",
    "## Chem 113, Spring 2021, Liang Shi"
   ]
  },
  {
   "cell_type": "markdown",
   "metadata": {},
   "source": [
    "In General Chemistry, you have learned the ideal gas law:\n",
    "\n",
    "$$p V = n R T.$$ \t\t\t\t\t\t\n",
    "\n",
    "If we define molar volume as\n",
    "\n",
    "$$ \\bar{V}=\\frac{V}{n},$$\n",
    "\n",
    "the ideal gas law reads\n",
    "\n",
    "$$ P \\bar{V} = R T \\;\\;\\;\\textrm{or}\\;\\;\\; P = \\frac{RT}{\\bar{V}}.$$\n",
    "\n",
    "In order to quantify the non-ideality of a real gas, we define *compressibility factor* as\n",
    "\n",
    "$$ Z=\\frac{P \\bar{V}}{RT}. $$\n"
   ]
  },
  {
   "cell_type": "code",
   "execution_count": 64,
   "metadata": {},
   "outputs": [],
   "source": [
    "# load some libraries for numerical operations and plotting\n",
    "import numpy as np\n",
    "from scipy.optimize import curve_fit\n",
    "import matplotlib.pyplot as plt\n",
    "%matplotlib inline"
   ]
  },
  {
   "cell_type": "markdown",
   "metadata": {},
   "source": [
    "Set the parameters first (*units are very important*)"
   ]
  },
  {
   "cell_type": "code",
   "execution_count": 65,
   "metadata": {
    "scrolled": true
   },
   "outputs": [],
   "source": [
    "# Parameters\n",
    "R = 0.082058   # L atm / (mol K)\n",
    "T = 300.0     # K"
   ]
  },
  {
   "cell_type": "markdown",
   "metadata": {},
   "source": [
    "Load experimental data at 300 K (Ref: [L. A. Rowley, D. Nicholson, and N. G. Parsonage. J. Comput. Phys. 17 (1975) 401](https://www.sciencedirect.com/science/article/pii/002199917590042X))"
   ]
  },
  {
   "cell_type": "code",
   "execution_count": 66,
   "metadata": {},
   "outputs": [
    {
     "data": {
      "image/png": "[encoded data removed]",
      "text/plain": [
       "<Figure size 432x288 with 1 Axes>"
      ]
     },
     "metadata": {
      "needs_background": "light"
     },
     "output_type": "display_data"
    }
   ],
   "source": [
    "# Load the data \n",
    "exp = np.loadtxt('Z_300.txt') # the exp data file has 2 columns\n",
    "P_exp = exp[:,0] # the 1st column is the pressure in the unit of atm\n",
    "Z_exp = exp[:,1] # the 2nd column is Z\n",
    "\n",
    "# take a look at the data\n",
    "plt.plot(P_exp, Z_exp, 'r-o', label=\"Exp\")\n",
    "plt.xlabel('Pressure (atm)')\n",
    "plt.ylabel('Z')\n",
    "plt.xlim((0,500))\n",
    "plt.ylim((0.9,1.2))\n",
    "plt.legend()\n",
    "plt.show()"
   ]
  },
  {
   "cell_type": "markdown",
   "metadata": {},
   "source": [
    "Compute $\\bar{V}$ first from $Z$\n",
    "\n",
    "$$\\bar{V} = \\frac{ZRT}{P}$$"
   ]
  },
  {
   "cell_type": "code",
   "execution_count": 67,
   "metadata": {},
   "outputs": [],
   "source": [
    "# compute Vbar from Z, Vbar is in the unit of L/mol\n",
    "Vbar = np.divide(Z_exp * R * T, P_exp)"
   ]
  },
  {
   "cell_type": "markdown",
   "metadata": {},
   "source": [
    "In order to fit the $P$ vs. $\\bar{V}$ according to the vdW equation, we have to define a function for vdw equation.\n",
    "\n",
    "$$ P = \\frac{RT}{\\bar{V}-b}-\\frac{a}{\\bar{V}^2} $$"
   ]
  },
  {
   "cell_type": "code",
   "execution_count": 68,
   "metadata": {},
   "outputs": [
    {
     "name": "stdout",
     "output_type": "stream",
     "text": [
      "a value from fit (L^2 atm / mol^2): 0.9727877797051426\n",
      "b value from fit (L / mol): 0.026685070517994635\n"
     ]
    }
   ],
   "source": [
    "def vdw(x, a, b):\n",
    "    '''\n",
    "    x: Vbar, molar volume\n",
    "    a, b: vdW parameters\n",
    "    '''\n",
    "    return R*T/(x-b)-a/x/x\n",
    "\n",
    "popt, pcov = curve_fit(vdw, Vbar, P_exp, [1.3, 0.03])\n",
    "a = popt[0]\n",
    "b = popt[1]\n",
    "print(\"a value from fit (L^2 atm / mol^2):\", a)\n",
    "print(\"b value from fit (L / mol):\", b)"
   ]
  },
  {
   "cell_type": "code",
   "execution_count": 70,
   "metadata": {},
   "outputs": [],
   "source": [
    "# compute predicted P and Z from vdw equation\n",
    "P_vdw = vdw(Vbar,*popt)\n",
    "Z_vdw = np.multiply(P_vdw, Vbar)/R/T"
   ]
  },
  {
   "cell_type": "markdown",
   "metadata": {},
   "source": [
    "Plot the results and compare them"
   ]
  },
  {
   "cell_type": "code",
   "execution_count": 73,
   "metadata": {},
   "outputs": [
    {
     "data": {
      "image/png": "[encoded data removed]",
      "text/plain": [
       "<Figure size 432x288 with 1 Axes>"
      ]
     },
     "metadata": {
      "needs_background": "light"
     },
     "output_type": "display_data"
    }
   ],
   "source": [
    "plt.plot(Vbar, Z_exp, 'ro', label=\"Exp\")\n",
    "plt.plot(Vbar, Z_vdw, 'b-', label=\"vdW\")\n",
    "plt.xlabel('Molar volume (L/mol)')\n",
    "plt.ylabel('Z')\n",
    "plt.xlim((0,1.5))\n",
    "plt.ylim((0.9,1.2))\n",
    "plt.legend()\n",
    "plt.show()"
   ]
  },
  {
   "cell_type": "markdown",
   "metadata": {},
   "source": [
    "Figure out the rough size of the molecule, using \n",
    "\n",
    "$$ b = \\frac{2\\pi \\sigma^3}{3}N_A $$"
   ]
  },
  {
   "cell_type": "code",
   "execution_count": 72,
   "metadata": {},
   "outputs": [
    {
     "name": "stdout",
     "output_type": "stream",
     "text": [
      "The rough estimate of the diameter of the molecule in Angstrom: 2.765791085730022\n"
     ]
    }
   ],
   "source": [
    "# make sure the units are correct\n",
    "# b: L/mol = dm^3 / mol\n",
    "# NA = 6.02214076e23 /mol\n",
    "# sigma will be in dm, needs to time 10^9 to Angstrom\n",
    "NA = 6.02215076e23\n",
    "d = (3.0*b/2/np.pi/NA)**(1.0/3.0)*1e9\n",
    "print(\"The rough estimate of the diameter of the molecule in Angstrom:\", d)"
   ]
  },
  {
   "cell_type": "markdown",
   "metadata": {},
   "source": [
    "This molecule is Argon, and its $\\sigma$ is commonly taken to be 3.41 Angstrom (Table 16.7), and the parameter $b$ for Ar is 0.03183 L/mol (Table 16.3). Our simple estimates based on a single set of experimental data are reasonably good, slightly underestimating both $b$ and $\\sigma$. "
   ]
  },
  {
   "cell_type": "code",
   "execution_count": null,
   "metadata": {},
   "outputs": [],
   "source": []
  }
 ],
 "metadata": {
  "kernelspec": {
   "display_name": "Python 3",
   "language": "python",
   "name": "python3"
  },
  "language_info": {
   "codemirror_mode": {
    "name": "ipython",
    "version": 3
   },
   "file_extension": ".py",
   "mimetype": "text/x-python",
   "name": "python",
   "nbconvert_exporter": "python",
   "pygments_lexer": "ipython3",
   "version": "3.6.7"
  }
 },
 "nbformat": 4,
 "nbformat_minor": 4
}
