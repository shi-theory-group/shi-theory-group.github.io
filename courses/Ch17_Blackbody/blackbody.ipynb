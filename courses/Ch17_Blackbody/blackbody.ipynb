{
 "cells": [
  {
   "cell_type": "markdown",
   "metadata": {},
   "source": [
    "\n",
    "# Estimate the surface temperature of sun using the blackbody radiation law\n",
    "## Chem 113, Spring 2021, Liang Shi"
   ]
  },
  {
   "cell_type": "markdown",
   "metadata": {},
   "source": [
    "Blackbod radiation law (Planck's law):\n",
    "\n",
    "$$d\\rho(\\nu,T) = \\frac{8\\pi h}{c^3} \\frac{\\nu^3 d\\nu}{e^{\\beta h\\nu}-1}$$ \t\t\t\t\t\t\n",
    "\n",
    "If wavelength is used instead of frequency, we have\n",
    "\n",
    "$$ d\\rho(\\lambda,T) =  \\frac{8\\pi h c}{\\lambda^5} \\frac{d\\lambda}{e^{\\beta hc/\\lambda}-1} $$\n",
    "\n",
    "Derivation:\n",
    "\n",
    "If the photon frequency is $E_n = nh\\nu$, $n=0,1,2,...$, the partition function for each photon is \n",
    "\n",
    "$$ q = \\sum_{n=0}^\\infty e^{-\\beta E_n} = \\sum_{n=0}^\\infty e^{-n \\beta h \\nu} = \\sum_{n=0}^\\infty \\left( e^{-\\beta h \\nu} \\right)^n = \\frac{1}{1-e^{-\\beta h\\nu}},$$\n",
    "\n",
    "where I have use the geometric series $\\sum_{n=0}^\\infty x^n = 1/(1-x)$. Now we calculate the average energy of the photon:\n",
    "\n",
    "$$ \\langle E(\\nu) \\rangle = -\\left( \\frac{\\partial \\ln q}{\\partial \\beta} \\right)_{NV} = - \\frac{\\partial}{\\partial \\beta} [- \\ln (1-e^{-\\beta h\\nu}) ] = \\frac{ h \\nu e^{-\\beta h \\nu}}{1-e^{-\\beta h \\nu}} = \\frac{h\\nu}{e^{\\beta h \\nu -1}} $$\n",
    "\n",
    "Since the number of photons in the frequency interval $\\nu$ and $\\nu+d\\nu$ is given by $8\\pi \\nu^2 d\\nu/c^3$. The total radiant energy density between this frequency interval is given by\n",
    "\n",
    "$$d\\rho(\\nu, T)  = \\frac{8 \\pi \\nu d\\nu}{c^3}\\cdot \\langle E(\\nu)\\rangle.$$\n",
    "\n",
    "This concludes the derivation. (Note that we do not consider the quantum statistical nature of photon explicitly.) In doing fitting, we just take the  following functional form since  the radiation energy density is in arbitrary unit. \n",
    "\n",
    "$$ d\\rho(\\lambda,T) = \\frac{A}{\\lambda}\\frac{1}{e^{\\beta hc/\\lambda}-1}.$$\n",
    "\n",
    "Before fitting, let's sort out the unit of $\\beta h c / \\lambda = h c /\\lambda k_B T$. $\\lambda$ in the unit of nm, so if we use the standard SI units, there is another factor of $10^{-9}$ to include (another way is to express $c$ in the unit of nm/s). \n"
   ]
  },
  {
   "cell_type": "code",
   "execution_count": 2,
   "metadata": {},
   "outputs": [],
   "source": [
    "# load some libraries for numerical operations and plotting\n",
    "import numpy as np\n",
    "from scipy.optimize import curve_fit\n",
    "import matplotlib.pyplot as plt\n",
    "%matplotlib inline"
   ]
  },
  {
   "cell_type": "markdown",
   "metadata": {},
   "source": [
    "Set the parameters first (*units are very important*)"
   ]
  },
  {
   "cell_type": "code",
   "execution_count": 3,
   "metadata": {
    "scrolled": true
   },
   "outputs": [],
   "source": [
    "# Parameters\n",
    "h = 6.62607015e-34   # Planck's constant in m^2 kg / s\n",
    "k = 1.38064852e-23   # Boltzmann constant in m^2 kg / (s^2 K)\n",
    "c = 2.99792458e8     # speed of light in m / s"
   ]
  },
  {
   "cell_type": "markdown",
   "metadata": {},
   "source": [
    "The original data is the synthetic Gueymard spectrum on https://www.nrel.gov/grid/solar-resource/spectra.html. We modified it so that students can use it with Excel."
   ]
  },
  {
   "cell_type": "code",
   "execution_count": 4,
   "metadata": {},
   "outputs": [
    {
     "name": "stdout",
     "output_type": "stream",
     "text": [
      "[1 3]\n"
     ]
    }
   ],
   "source": [
    "a = np.array([1,2,3,4])\n",
    "print(a[::2])"
   ]
  },
  {
   "cell_type": "code",
   "execution_count": 6,
   "metadata": {},
   "outputs": [],
   "source": [
    "# Load the data \n",
    "# the exp data file has 2 columns (1st: wavelength in nm; 2nd: radiation energy density)\n",
    "exp0 = np.loadtxt('newguey2003_truncated.txt')\n",
    "exp = exp0[::50,:]\n",
    "np.savetxt(\"newguey2003_modified.txt\", exp)"
   ]
  },
  {
   "cell_type": "code",
   "execution_count": 8,
   "metadata": {},
   "outputs": [
    {
     "data": {
      "image/png": "[encoded data removed]",
      "text/plain": [
       "<Figure size 432x288 with 1 Axes>"
      ]
     },
     "metadata": {
      "needs_background": "light"
     },
     "output_type": "display_data"
    }
   ],
   "source": [
    "exp = np.loadtxt('newguey2003_modified.txt')\n",
    "nm_exp = exp[:,0] # the 1st column is the wavelength in nm\n",
    "en_exp = exp[:,1] # the 2nd column is the radiation energy density in arbitrary unit\n",
    "\n",
    "# take a look at the data\n",
    "plt.plot(nm_exp, en_exp, 'r-o', label=\"Exp\")\n",
    "plt.xlabel('Wavelength (nm)')\n",
    "plt.ylabel('Radiation energy density')\n",
    "plt.xlim((0,2500))\n",
    "plt.ylim((0,2.5))\n",
    "plt.legend()\n",
    "plt.show()"
   ]
  },
  {
   "cell_type": "code",
   "execution_count": 29,
   "metadata": {},
   "outputs": [
    {
     "name": "stdout",
     "output_type": "stream",
     "text": [
      "Surface temperature of the sun (K): 5525.42432630576\n"
     ]
    }
   ],
   "source": [
    "# Planck's law\n",
    "def planck(nm, a, T):\n",
    "    '''\n",
    "    nm: wavelength in nm\n",
    "    a:  prefactor\n",
    "    '''\n",
    "    return a/nm**5/(np.exp(h*c/(k*T*nm*1e-9))-1)\n",
    "\n",
    "popt, pcov = curve_fit(planck, nm_exp, en_exp, [1e16, 6000.0])\n",
    "a = popt[0]\n",
    "T = popt[1]\n",
    "print(\"Surface temperature of the sun (K):\", T)"
   ]
  },
  {
   "cell_type": "code",
   "execution_count": 30,
   "metadata": {},
   "outputs": [],
   "source": [
    "# compute predicted radiation energy density from fitting\n",
    "en_fit = planck(nm_exp,*popt)"
   ]
  },
  {
   "cell_type": "markdown",
   "metadata": {},
   "source": [
    "Plot the results and compare them"
   ]
  },
  {
   "cell_type": "code",
   "execution_count": 31,
   "metadata": {},
   "outputs": [
    {
     "data": {
      "image/png": "[encoded data removed]",
      "text/plain": [
       "<Figure size 432x288 with 1 Axes>"
      ]
     },
     "metadata": {
      "needs_background": "light"
     },
     "output_type": "display_data"
    }
   ],
   "source": [
    "plt.plot(nm_exp, en_exp, 'ro', label=\"Exp\")\n",
    "plt.plot(nm_exp, en_fit, 'b-', label=\"vdW\")\n",
    "plt.xlabel('Wavelength (nm)')\n",
    "plt.ylabel('Radiation energy density')\n",
    "plt.xlim((0,2500))\n",
    "plt.ylim((0,2.5))\n",
    "plt.legend()\n",
    "plt.show()"
   ]
  },
  {
   "cell_type": "markdown",
   "metadata": {},
   "source": [
    "From our simple fitting, we estimate the surface temperature of the sun is about 5525 K. NASA website (https://www.nasa.gov/sun) shows the surface temperature is 10000 F, which is 5811 K. Our simple estimation is pretty good."
   ]
  },
  {
   "cell_type": "code",
   "execution_count": null,
   "metadata": {},
   "outputs": [],
   "source": []
  }
 ],
 "metadata": {
  "kernelspec": {
   "display_name": "Python 3",
   "language": "python",
   "name": "python3"
  },
  "language_info": {
   "codemirror_mode": {
    "name": "ipython",
    "version": 3
   },
   "file_extension": ".py",
   "mimetype": "text/x-python",
   "name": "python",
   "nbconvert_exporter": "python",
   "pygments_lexer": "ipython3",
   "version": "3.6.7"
  }
 },
 "nbformat": 4,
 "nbformat_minor": 4
}
