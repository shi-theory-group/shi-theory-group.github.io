{
 "cells": [
  {
   "cell_type": "markdown",
   "metadata": {},
   "source": [
    "# Molar Entropy of an Ideal Monatomic Gas\n",
    "## Chem 113, Spring 2020, Liang Shi"
   ]
  },
  {
   "cell_type": "markdown",
   "metadata": {},
   "source": [
    "In this notebook, we will calculate the molar entropies of noble gases using statistical mechanics.\n",
    "\n",
    "The partition function of an ideal monatomic gas is given by\n",
    "\n",
    "$$ Q = \\frac{q^N}{N!}, $$\n",
    "\n",
    "where the molecular partition function (electronic part is neglected) is given by\n",
    "\n",
    "$$ q = \\left ( \\frac{2\\pi m k_B T}{h^2} \\right)^{3/2} V. $$\n",
    "\n",
    "We also know entropy, $S$, can be computed from partition function, $Q$, via\n",
    "\n",
    "$$ S = k_B T \\left ( \\frac{\\partial \\ln Q}{ \\partial T} \\right)_{NV} + k_B \\ln Q. $$ \n",
    "\n",
    "Let's evaluate $\\ln Q$ first:\n",
    "\n",
    "$$ \\ln Q = N \\ln q - \\ln N!$$\n",
    "\n",
    "and then we have\n",
    "\n",
    "$$ \\left ( \\frac{\\partial \\ln Q}{ \\partial T} \\right)_{NV} = N \\frac{\\partial \\ln q}{ \\partial T} = \\frac{3N}{2T}.$$\n",
    "\n",
    "Now entropy reads\n",
    "\n",
    "$$ S = \\frac{3}{2} k_B N + k_B N \\ln \\left [ \\left ( \\frac{2\\pi m k_B T}{h^2} \\right)^{3/2} V \\right ] - k_B  \\ln N!$$\n",
    "\n",
    "Note that $N=n N_A$, $k_B = R/N_A$. With the Stirling approximation: for large $N$, $\\ln N! \\approx N \\ln N - N$, we have\n",
    "\n",
    "$$ S= \\frac{3}{2} nR + nR \\ln \\left [ \\left ( \\frac{2\\pi m k_B T}{h^2} \\right)^{3/2} V \\right ] - nR \\ln N + nR $$\n",
    "\n",
    "$$ S= \\frac{5}{2} nR + nR \\ln \\left [ \\left ( \\frac{2\\pi m k_B T}{h^2} \\right)^{3/2} \\frac{V}{N} \\right ]. $$\n",
    "\n",
    "Introducing molar entropy, $\\bar{S}=S/n$, and molar volume, $\\bar{V}=V/n$, the final expression is\n",
    "\n",
    "$$ \\bar{S} = \\frac{S}{n} = \\frac{5}{2} R + R \\ln \\left [ \\left ( \\frac{2\\pi m k_B T}{h^2} \\right)^{3/2} \\frac{\\bar{V}}{N_A} \\right ] $$\n"
   ]
  },
  {
   "cell_type": "markdown",
   "metadata": {},
   "source": [
    "** Let's do this calculation for Ar at 298.15 K and 1 bar.**"
   ]
  },
  {
   "cell_type": "code",
   "execution_count": 1,
   "metadata": {},
   "outputs": [],
   "source": [
    "# load some libraries for numerical operations and plotting\n",
    "import numpy as np\n",
    "import matplotlib.pyplot as plt\n",
    "%matplotlib inline"
   ]
  },
  {
   "cell_type": "markdown",
   "metadata": {},
   "source": [
    "Compute the molar volume first using the ideal gas law ($P \\bar{V} = RT $)"
   ]
  },
  {
   "cell_type": "code",
   "execution_count": 2,
   "metadata": {},
   "outputs": [],
   "source": [
    "T = 298.15    # K\n",
    "R = 0.0831451 # L bar /K /mol\n",
    "P = 1.0       # bar\n",
    "Vbar = R*T/P*0.001 # m^3 /mol (0.001 converts L to m^3)"
   ]
  },
  {
   "cell_type": "markdown",
   "metadata": {},
   "source": [
    "Set other parameters (*we will use the SI units for the rest of the notebook.*)"
   ]
  },
  {
   "cell_type": "code",
   "execution_count": 3,
   "metadata": {
    "scrolled": true
   },
   "outputs": [],
   "source": [
    "# Parameters in SI units\n",
    "R = 8.314510 # re-define R in the unit of J / K /mol\n",
    "molar_mass = 39.948*0.001 # kg / mol (0.001 converts g to kg)\n",
    "Na = 6.0221413e23 # Avogadro's number in /mol\n",
    "kB = 1.380658e-23 # Boltzmann constant in J /K\n",
    "h = 6.6260755e-34 # Planck constant in J s\n",
    "m = molar_mass / Na # mass of an Ar atom"
   ]
  },
  {
   "cell_type": "markdown",
   "metadata": {},
   "source": [
    "Compute molar entropy using the derived equation:"
   ]
  },
  {
   "cell_type": "code",
   "execution_count": 4,
   "metadata": {},
   "outputs": [
    {
     "name": "stdout",
     "output_type": "stream",
     "text": [
      "154.8466488394353\n"
     ]
    }
   ],
   "source": [
    "factor1 = 2.0*np.pi*m*kB*T/h/h\n",
    "factor2 = Vbar / Na\n",
    "s = 2.5*R + R*np.log(np.power(factor1,1.5)*factor2)\n",
    "print(s)"
   ]
  },
  {
   "cell_type": "markdown",
   "metadata": {},
   "source": [
    "**Group Exercise:**\n",
    "\n",
    "Repeat the calculation above for other noble gases, and fill the form below."
   ]
  },
  {
   "cell_type": "markdown",
   "metadata": {},
   "source": [
    "| Gas  | molar mass | $\\bar{S}$ (theory)  | $\\bar{S}$ (exp.)  |\n",
    "|--:|--:|--:|--:|\n",
    "| He   | 4.003   |   | 126.153  |\n",
    "| Ne   | 20.180  |   | 146.328  |\n",
    "| Ar   | 39.948  | 154.847  | 154.846  |\n",
    "| Kr   | 83.798  |   | 164.085  |\n",
    "| Xe   | 131.293 |   | 169.685  |"
   ]
  },
  {
   "cell_type": "markdown",
   "metadata": {},
   "source": [
    "Note: molar mass is in the unit of $g/mol$, and the molar entropy is in the unit of $J \\cdot K^{-1} \\cdot mol^{-1}$. The experimental data are taken from National Institute of Standards and Technology (NIST), U.S. Department of Commerce. "
   ]
  }
 ],
 "metadata": {
  "kernelspec": {
   "display_name": "Python 3",
   "language": "python",
   "name": "python3"
  },
  "language_info": {
   "codemirror_mode": {
    "name": "ipython",
    "version": 3
   },
   "file_extension": ".py",
   "mimetype": "text/x-python",
   "name": "python",
   "nbconvert_exporter": "python",
   "pygments_lexer": "ipython3",
   "version": "3.6.7"
  }
 },
 "nbformat": 4,
 "nbformat_minor": 1
}
