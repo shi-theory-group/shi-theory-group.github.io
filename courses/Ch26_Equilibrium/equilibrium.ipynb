{
 "cells": [
  {
   "cell_type": "markdown",
   "metadata": {},
   "source": [
    "\n",
    "# Chemical Equilibrium\n",
    "## Chem 113, Spring 2020, Liang Shi"
   ]
  },
  {
   "cell_type": "markdown",
   "metadata": {},
   "source": [
    "In this notebook, we will use two approaches to work out the equilibrium constant of the gas phase reaction of nitrous acid and nitric acid to form water (gas) and dinitrogen tetraoxide at 298.15 K that initially starts with 1 mole of each reactant:\n",
    "\n",
    "$$ HNO_2 + HNO_3 \\rightleftharpoons N_2 O_4 + H_2 O $$\n",
    "\n",
    "Note that all gases are treated as ideal gas."
   ]
  },
  {
   "cell_type": "code",
   "execution_count": 1,
   "metadata": {
    "collapsed": true
   },
   "outputs": [],
   "source": [
    "# load some libraries for numerical operations and plotting\n",
    "import numpy as np\n",
    "import matplotlib.pyplot as plt\n",
    "%matplotlib inline"
   ]
  },
  {
   "cell_type": "markdown",
   "metadata": {},
   "source": [
    "For convenience, let's first define a class for molecules"
   ]
  },
  {
   "cell_type": "code",
   "execution_count": 2,
   "metadata": {
    "collapsed": true
   },
   "outputs": [],
   "source": [
    "class Molecule:\n",
    "    def __init__(self, h, s):\n",
    "        self.h = h    # standard molar enthalpy of formation (kJ/mol)\n",
    "        self.s = s    # standard molar entropy (kJ/mol/K)\n",
    "        self.n = 0.0  # mole\n",
    "        self.x = 0.0  # mole fraction\n",
    "        self.p = 0.0  # partial pressure (bar)\n",
    "        self.g = 0.0  # standard molar Gibbs free energy of formation (kJ/mol)    "
   ]
  },
  {
   "cell_type": "markdown",
   "metadata": {},
   "source": [
    "The standard molar enthalpies of formation and standard molar entropies of relevant molecules are provided in the table below:\n",
    "\n",
    "\n",
    "|  Molecule  |  $\\Delta_f H^{\\circ}\\\\(kJ\\cdot mol^{-1})$  | $S^{\\circ}\\\\(J\\cdot mol^{-1} \\cdot K^{-1})$  |\n",
    "|:---:|:---:|:---:|\n",
    "|  $O_2$ | 0  | 205.2  |\n",
    "|  $N_2$ | 0  | 191.6  |\n",
    "|  $H_2$ | 0  | 130.7  |\n",
    "| $HNO_2$ | -76.73 | 249.41 |\n",
    "| $HNO_3$ | -134.31 | 266.39 |\n",
    "| $N_2 O_4$ | 9.08 | 304.38 |\n",
    "| $H_2 O$ | -241.83 | 188.84 |\n",
    "\n"
   ]
  },
  {
   "cell_type": "markdown",
   "metadata": {},
   "source": [
    "Assign these properties to the corresponding molecules:"
   ]
  },
  {
   "cell_type": "code",
   "execution_count": 3,
   "metadata": {
    "collapsed": true,
    "scrolled": true
   },
   "outputs": [],
   "source": [
    "o2 = Molecule(0.0, 205.2/1000.0) # divided the entropy by 1000 to convert the unit to kJ /mol /K\n",
    "n2 = Molecule(0.0, 191.6/1000.0)\n",
    "h2 = Molecule(0.0, 130.7/1000.0)\n",
    "hno2 = Molecule(-76.73, 249.41/1000.0)\n",
    "hno3 = Molecule(-134.31, 266.39/1000.0)\n",
    "n2o4 = Molecule(9.08, 304.38/1000.0)\n",
    "h2o = Molecule(-241.83, 188.84/1000.0)"
   ]
  },
  {
   "cell_type": "markdown",
   "metadata": {},
   "source": [
    "Set up the parameters for the reaction system. The initial moles of $HNO_2$ and $HNO_3$ are 1 mol, and the total mole of gases in the reaction system is always 2 mol due to the stoichiometry of the reaction. The total pressure in the reaction system is kept at 1 bar. "
   ]
  },
  {
   "cell_type": "code",
   "execution_count": 4,
   "metadata": {
    "collapsed": true
   },
   "outputs": [],
   "source": [
    "R = 0.0083145 # kJ /mol /K\n",
    "T = 298.15 # temperature (K)\n",
    "p0 = 1.0 # standard pressure P0 is 1 bar\n",
    "pt = 1.0 # the total pressure in the reaction system is kept at 1 bar\n",
    "nt = 2.0 # total mole of gases is always 2 mol"
   ]
  },
  {
   "cell_type": "markdown",
   "metadata": {},
   "source": [
    "### Approach 1: a plot of the Gibbs free energy of a reaction mixture against the reaction extent is a minimum at equilibrium\n",
    "\n",
    "For thermodynamic equilibrium at constant $N$, $P$, and $T$, the Gibbs free energy of the system reaches a minimum (see the extremum principles discussed in Chapter 22). The Gibbs free energy of the system is a function of the reaction extent, $\\xi$, and the equiliubrium state corresponds to an equilibrium $\\xi$, denoted as $\\xi_{eq}$. The goal of this approach is to find $\\xi_{eq}$ that miminizes $G(\\xi)$."
   ]
  },
  {
   "cell_type": "markdown",
   "metadata": {},
   "source": [
    "In the code below the reaction extent $\\xi$ is denoted as xi, and we use an array to describe it (at the end, we will plot $G(\\xi)$ vs. $\\xi$). "
   ]
  },
  {
   "cell_type": "code",
   "execution_count": 5,
   "metadata": {
    "collapsed": true
   },
   "outputs": [],
   "source": [
    "xi = np.arange(0.01,0.99,0.0001) # reaction extent"
   ]
  },
  {
   "cell_type": "markdown",
   "metadata": {},
   "source": [
    "Using reaction extent, we can compute the moles of gases, the mole fractions of gases, and partial pressures of gases in the reaction system."
   ]
  },
  {
   "cell_type": "code",
   "execution_count": 6,
   "metadata": {
    "collapsed": true
   },
   "outputs": [],
   "source": [
    "# moles of gases (initial moles of HNO2 and HNO3 are 1 mol)\n",
    "hno2.n = 1.0 - xi\n",
    "hno3.n = 1.0 - xi\n",
    "n2o4.n = xi\n",
    "h2o.n = xi\n",
    "\n",
    "# mole fractions of gases (nt: total mole of gases)\n",
    "hno2.x = hno2.n / nt \n",
    "hno3.x = hno3.n / nt\n",
    "n2o4.x = n2o4.n / nt\n",
    "h2o.x = h2o.n / nt\n",
    "\n",
    "# partial pressures of gases (pt: the total pressure in the reaction system)\n",
    "# based on Dalton's law of partial pressures\n",
    "hno2.p = hno2.x * pt\n",
    "hno3.p = hno3.x * pt\n",
    "n2o4.p = n2o4.x * pt\n",
    "h2o.p = h2o.x * pt"
   ]
  },
  {
   "cell_type": "markdown",
   "metadata": {},
   "source": [
    "With partial pressures of gases in hand, we can compute the reaction quotient $Q$ as a function of reaction extent $\\xi$. At equilibrium, $\\xi=\\xi_{eq}$, and equilibrium constant $K_P = Q(\\xi_{eq})$. "
   ]
  },
  {
   "cell_type": "code",
   "execution_count": 7,
   "metadata": {
    "collapsed": true
   },
   "outputs": [],
   "source": [
    "# reaction quotient Q\n",
    "Q = (n2o4.p/p0) * (h2o.p/p0) / ( (hno2.p/p0) * (hno3.p/p0) )"
   ]
  },
  {
   "cell_type": "markdown",
   "metadata": {},
   "source": [
    "To calculate the Gibbs free energy of the reaction system, $G(\\xi)$, we need to compute the molar Gibbs free energy (namely, chemical potential) of each gas at its partial pressure. The molar Gibbs free energy of gas, $\\bar{G}(T,P)$ (namely, chemical potential $\\mu(T,P)$) is given by (see equation (23.33) in M&S)\n",
    "\n",
    "$$\\bar{G}(T,P)=\\bar{G}^{\\circ}(T) + RT \\ln \\frac{P}{P_0},$$\n",
    "\n",
    "where $\\bar{G}^{\\circ}$ is the standard molar Gibbs free energy, and the standard state pressure $P_0 = 1 bar$.\n",
    "\n",
    "Free energy, just like energy, is relative, and we can choose a reference such that the standard molar Gibbs free energy $\\bar{G}^{\\circ}$ equals the standard molar Gibbs free energy of formation $\\Delta_f G^{\\circ}$. We need to first calculate the standard molar Gibbs free energy of formation for all gases using standard molar enthalpy of formation and standard molar entropy (see section 26-3 in M&S)."
   ]
  },
  {
   "cell_type": "code",
   "execution_count": 8,
   "metadata": {
    "collapsed": true
   },
   "outputs": [],
   "source": [
    "# Compute standard molar Gibbs free energy of formation (kJ/mol)\n",
    "# note that it might be more compact if we define a function to \n",
    "# compute this.\n",
    "\n",
    "# for HNO2: 0.5 H2 + 0.5 N2 + O2 ---> HNO3 (reaction for the formation of HNO3 from its constituent elements.)\n",
    "drh = hno2.h - 0.5*h2.h - 0.5*n2.h - o2.h  # standard reaction enthalpy change\n",
    "drs = hno2.s - 0.5*h2.s - 0.5*n2.s - o2.s  # standard reaction entropy change \n",
    "drg = drh - T * drs # standard reaction Gibbs free energy change\n",
    "hno2.g = drg\n",
    "\n",
    "# for HNO3: 0.5 H2 + 0.5 N2 + 1.5 O2 ---> HNO3\n",
    "drh = hno3.h - 0.5*h2.h - 0.5*n2.h - 1.5*o2.h\n",
    "drs = hno3.s - 0.5*h2.s - 0.5*n2.s - 1.5*o2.s\n",
    "drg = drh - T * drs\n",
    "hno3.g = drg\n",
    "\n",
    "# for N2O4: N2 + 2 O2 ---> N2O4\n",
    "drh = n2o4.h - n2.h - 2.0*o2.h\n",
    "drs = n2o4.s - n2.s - 2.0*o2.s\n",
    "drg = drh - T * drs\n",
    "n2o4.g = drg\n",
    "\n",
    "# for H2O: H2 + 0.5 O2 ---> H2O\n",
    "drh = h2o.h - h2.h - 0.5*o2.h\n",
    "drs = h2o.s - h2.s - 0.5*o2.s\n",
    "drg = drh - T * drs \n",
    "h2o.g = drg"
   ]
  },
  {
   "cell_type": "markdown",
   "metadata": {},
   "source": [
    "Now we can compute the Gibbs free energy of the reaction system by using\n",
    "\n",
    "$$ G = \\sum_{i=HNO_2, HNO_3, N_2 O_4, H_2 O} n_i \\bar{G}_i, $$\n",
    "\n",
    "where \n",
    " \n",
    "$$\\bar{G}_i=\\bar{G}_i^{\\circ} + RT \\ln \\frac{P_i}{P_0},$$\n",
    "\n",
    "$$ \\bar{G}_i^{\\circ} = \\Delta_f G_i^{\\circ},$$\n",
    "\n",
    "and $P_i$ is the partial pressure of the gas $i$."
   ]
  },
  {
   "cell_type": "code",
   "execution_count": 9,
   "metadata": {
    "collapsed": true
   },
   "outputs": [],
   "source": [
    "# compute G(xi)\n",
    "g = hno2.n*(hno2.g+R*T*np.log(hno2.p/p0)) \\\n",
    "  + hno3.n*(hno3.g+R*T*np.log(hno3.p/p0)) \\\n",
    "  + n2o4.n*(n2o4.g+R*T*np.log(n2o4.p/p0)) \\\n",
    "  + h2o.n*(h2o.g+R*T*np.log(h2o.p/p0))"
   ]
  },
  {
   "cell_type": "markdown",
   "metadata": {},
   "source": [
    "Now let's plot $G$ as a function of $\\xi$:"
   ]
  },
  {
   "cell_type": "code",
   "execution_count": 10,
   "metadata": {},
   "outputs": [
    {
     "data": {
      "image/png": "[encoded data removed]",
      "text/plain": [
       "<matplotlib.figure.Figure at 0x7f77c00346d0>"
      ]
     },
     "metadata": {},
     "output_type": "display_data"
    }
   ],
   "source": [
    "# plot G(xi)\n",
    "plt.plot(xi, g, 'r-')\n",
    "plt.xlabel('Reaction extent (mol)')\n",
    "plt.ylabel('Gibbs free energy (kJ/mol)')\n",
    "plt.xlim((0,1))\n",
    "plt.show()"
   ]
  },
  {
   "cell_type": "markdown",
   "metadata": {},
   "source": [
    "There is a minimum probably around $\\xi=0.95$, and let's get the equilibrium reaction extent, $\\xi_{eq}$."
   ]
  },
  {
   "cell_type": "code",
   "execution_count": 11,
   "metadata": {},
   "outputs": [
    {
     "name": "stdout",
     "output_type": "stream",
     "text": [
      "('Equilibrium reaction extent is', 0.95349999999999435)\n"
     ]
    }
   ],
   "source": [
    "idx = g.argmin() # find the xi that minimizes G\n",
    "xieq = xi[idx] # equilibrium xi\n",
    "print(\"Equilibrium reaction extent is\", xieq)"
   ]
  },
  {
   "cell_type": "markdown",
   "metadata": {},
   "source": [
    "As mentioned, at equilibrium, $\\xi=\\xi_{eq}$, and equilibrium constant $K_P = Q(\\xi_{eq})$. "
   ]
  },
  {
   "cell_type": "code",
   "execution_count": 12,
   "metadata": {},
   "outputs": [
    {
     "name": "stdout",
     "output_type": "stream",
     "text": [
      "('The equilibrium constant obtained from approach 1 is', 420.47045901249544)\n"
     ]
    }
   ],
   "source": [
    "Kp1 = Q[idx] # equilibrium constant\n",
    "print(\"The equilibrium constant obtained from approach 1 is\",Kp1)"
   ]
  },
  {
   "cell_type": "markdown",
   "metadata": {},
   "source": [
    "**Note: in practice, we never use approach 1 to compute equilibrium constant.**"
   ]
  },
  {
   "cell_type": "markdown",
   "metadata": {},
   "source": [
    "### Approach 2: use $\\Delta_r G^{\\circ}(T) = - RT \\ln K_P (T)$ (equation (26.11) in M&S)"
   ]
  },
  {
   "cell_type": "markdown",
   "metadata": {},
   "source": [
    "This is the approach you should know. Standard reaction Gibbs free energy change can be computed from\n",
    "\n",
    "$$ \\Delta_r G^{\\circ} = \\Delta_r H^{\\circ} - T \\Delta_r S^{\\circ}, $$\n",
    "\n",
    "where $\\Delta_r H^{\\circ}$ and $\\Delta_r S^{\\circ}$ can be computed from Equation (19.52) and the equation in section 21-9 in M&S, respectively. With $ \\Delta_r G^{\\circ}$ in hand, the equilibrium constant is given by\n",
    "\n",
    "$$ K_p = e^{- \\Delta_r G^{\\circ} / RT } $$"
   ]
  },
  {
   "cell_type": "code",
   "execution_count": 14,
   "metadata": {},
   "outputs": [
    {
     "name": "stdout",
     "output_type": "stream",
     "text": [
      "('The equilibrium constant obtained from approach 1 is', 420.70774339515617)\n"
     ]
    }
   ],
   "source": [
    "# approach 2\n",
    "drh = n2o4.h + h2o.h - hno2.h - hno3.h # standard reaction enthalpy change\n",
    "drs = n2o4.s + h2o.s - hno2.s - hno3.s # standard reaction entropy change\n",
    "drg = drh - T * drs # standard reaction Gibbs free energy change\n",
    "Kp2 = np.exp(-drg/(R*T)) # compute Kp using approach 2\n",
    "print(\"The equilibrium constant obtained from approach 1 is\",Kp2)"
   ]
  },
  {
   "cell_type": "markdown",
   "metadata": {},
   "source": [
    "**Group Exercise**\n",
    "\n",
    "The two approaches give slightly different equilibrium constants due to numerical error. What would you change to reduce the numerical error? Try it."
   ]
  },
  {
   "cell_type": "code",
   "execution_count": null,
   "metadata": {
    "collapsed": true
   },
   "outputs": [],
   "source": []
  }
 ],
 "metadata": {
  "kernelspec": {
   "display_name": "Python 2",
   "language": "python",
   "name": "python2"
  },
  "language_info": {
   "codemirror_mode": {
    "name": "ipython",
    "version": 2
   },
   "file_extension": ".py",
   "mimetype": "text/x-python",
   "name": "python",
   "nbconvert_exporter": "python",
   "pygments_lexer": "ipython2",
   "version": "2.7.14"
  }
 },
 "nbformat": 4,
 "nbformat_minor": 1
}
